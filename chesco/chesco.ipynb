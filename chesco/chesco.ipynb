{
 "cells": [
  {
   "cell_type": "code",
   "execution_count": 1,
   "metadata": {},
   "outputs": [],
   "source": [
    "import re\n",
    "from bs4 import BeautifulSoup\n",
    "import sys\n",
    "import os\n",
    "import csv"
   ]
  },
  {
   "cell_type": "code",
   "execution_count": 5,
   "metadata": {},
   "outputs": [],
   "source": [
    "if 'JUPYTER_DATE' in os.environ:\n",
    "    filename = os.environ['JUPYTER_DATE']\n",
    "else:\n",
    "    filename = '2020-05-24.html'\n",
    "outfile = filename.replace('.html', '.csv')\n",
    "txtfile = filename.replace('.html', '.txt')"
   ]
  },
  {
   "cell_type": "code",
   "execution_count": 6,
   "metadata": {},
   "outputs": [],
   "source": [
    "soup=BeautifulSoup(open(filename), features=\"lxml\")"
   ]
  },
  {
   "cell_type": "code",
   "execution_count": 7,
   "metadata": {},
   "outputs": [],
   "source": [
    "gs = soup.findAll('g', class_='amcharts-graph-column')\n",
    "labeled = [x for x in gs if x.has_attr('aria-label')]"
   ]
  },
  {
   "cell_type": "code",
   "execution_count": 8,
   "metadata": {},
   "outputs": [],
   "source": [
    "negatives = [l['aria-label'] for l in labeled if 'Total Negatives' in l['aria-label']]\n",
    "positives = [l['aria-label'] for l in labeled if 'Total All Positives' in l['aria-label']]\n",
    "deaths    = [l['aria-label'] for l in labeled if 'Total Deaths' in l['aria-label']]"
   ]
  },
  {
   "cell_type": "code",
   "execution_count": 9,
   "metadata": {},
   "outputs": [],
   "source": [
    "def clean_labels(labels, basetext, dates=False):\n",
    "    rgx = re.compile(r'^' + basetext + r' (... \\d\\d, 202\\d) ([\\d,]+)$')\n",
    "\n",
    "    data = []\n",
    "    for (i, label) in enumerate(labels):\n",
    "        m = rgx.search(label)\n",
    "        if m:\n",
    "            (date, value) = m.groups()\n",
    "            if i == 0:\n",
    "                assert date == 'Mar 01, 2020'\n",
    "            if dates:\n",
    "                data.append(date)\n",
    "            else:\n",
    "                data.append(int(value.replace(',','')))\n",
    "        else:\n",
    "            print(f'ERROR: {label}')\n",
    "    return data"
   ]
  },
  {
   "cell_type": "code",
   "execution_count": 10,
   "metadata": {},
   "outputs": [],
   "source": [
    "neg = clean_labels(negatives, 'Total Negatives')\n",
    "pos = clean_labels(positives, 'Total All Positives')\n",
    "rip = clean_labels(deaths, 'Total Deaths')\n",
    "dates = clean_labels(negatives, 'Total Negatives', dates=True)"
   ]
  },
  {
   "cell_type": "code",
   "execution_count": 11,
   "metadata": {},
   "outputs": [],
   "source": [
    "write_csv = False\n",
    "\n",
    "if write_csv: \n",
    "    fh = open(outfile,'w')\n",
    "    writer = csv.writer(fh)\n",
    "    header = ['Date', '#', 'Positives', 'Negatives', 'Deaths']\n",
    "    writer.writerow(header)    \n",
    "\n",
    "ft = open(txtfile,'w')\n",
    "for i, (dt,p,n,d) in enumerate(zip(dates,pos, neg, rip)):\n",
    "    row = [dt, i+1, p, n, d]\n",
    "    if write_csv: \n",
    "        writer.writerow(row)\n",
    "    print(f'{p}\\t{n}\\t{d}', file=ft)\n",
    "ft.close()\n",
    "\n",
    "if write_csv:\n",
    "    fh.close()\n"
   ]
  },
  {
   "cell_type": "code",
   "execution_count": null,
   "metadata": {},
   "outputs": [],
   "source": []
  }
 ],
 "metadata": {
  "kernelspec": {
   "display_name": "Python 3",
   "language": "python",
   "name": "python3"
  },
  "language_info": {
   "codemirror_mode": {
    "name": "ipython",
    "version": 3
   },
   "file_extension": ".py",
   "mimetype": "text/x-python",
   "name": "python",
   "nbconvert_exporter": "python",
   "pygments_lexer": "ipython3",
   "version": "3.7.7"
  }
 },
 "nbformat": 4,
 "nbformat_minor": 4
}
