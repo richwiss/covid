{
 "cells": [
  {
   "cell_type": "markdown",
   "metadata": {},
   "source": [
    "## TODO\n",
    "\n",
    "- figure out how to import one notebook into another!\n",
    "    - https://jupyter-notebook.readthedocs.io/en/stable/examples/Notebook/Importing%20Notebooks.html\n",
    "- load multiple txt files in to create time-to-test-result graphs\n"
   ]
  },
  {
   "cell_type": "code",
   "execution_count": 1,
   "metadata": {},
   "outputs": [],
   "source": [
    "import pandas as pd\n",
    "from matplotlib import pyplot as plt\n",
    "%matplotlib inline\n",
    "%config InlineBackend.print_figure_kwargs = {'bbox_inches':None}\n",
    "import seaborn as sns\n",
    "import datetime\n",
    "import numpy as np\n",
    "import os\n",
    "from pathlib import Path, PurePath\n",
    "from tqdm import tqdm\n",
    "from collections import defaultdict\n",
    "import re\n",
    "import pathlib"
   ]
  },
  {
   "cell_type": "code",
   "execution_count": 2,
   "metadata": {},
   "outputs": [
    {
     "data": {
      "text/html": [
       "        <script type=\"text/javascript\">\n",
       "        window.PlotlyConfig = {MathJaxConfig: 'local'};\n",
       "        if (window.MathJax) {MathJax.Hub.Config({SVG: {font: \"STIX-Web\"}});}\n",
       "        if (typeof require !== 'undefined') {\n",
       "        require.undef(\"plotly\");\n",
       "        requirejs.config({\n",
       "            paths: {\n",
       "                'plotly': ['https://cdn.plot.ly/plotly-latest.min']\n",
       "            }\n",
       "        });\n",
       "        require(['plotly'], function(Plotly) {\n",
       "            window._Plotly = Plotly;\n",
       "        });\n",
       "        }\n",
       "        </script>\n",
       "        "
      ]
     },
     "metadata": {},
     "output_type": "display_data"
    }
   ],
   "source": [
    "#plotly\n",
    "import plotly.graph_objects as go\n",
    "from plotly.subplots import make_subplots\n",
    "from plotly.offline import init_notebook_mode\n",
    "init_notebook_mode(connected = True)"
   ]
  },
  {
   "cell_type": "markdown",
   "metadata": {},
   "source": [
    "## Setup"
   ]
  },
  {
   "cell_type": "code",
   "execution_count": 55,
   "metadata": {},
   "outputs": [],
   "source": [
    "base_loc = '.'\n",
    "chesco_loc = f'{base_loc}/chesco/data'\n",
    "chesco_path = pathlib.Path(chesco)\n",
    "population = 566747"
   ]
  },
  {
   "cell_type": "markdown",
   "metadata": {},
   "source": [
    "## Functions for loading data"
   ]
  },
  {
   "cell_type": "code",
   "execution_count": 56,
   "metadata": {},
   "outputs": [],
   "source": [
    "start_date = datetime.datetime(2020, 3, 1, 12, 0, 0)\n",
    "txtfiles = sorted([path for path in chesco_path.iterdir() if path.name.endswith('.txt')])"
   ]
  },
  {
   "cell_type": "code",
   "execution_count": 66,
   "metadata": {},
   "outputs": [],
   "source": [
    "df = pd.read_csv(txtfiles[-1], sep='\\t', names=['Confirmed', 'Negative', 'Deaths'])\n",
    "dates = [(start_date + datetime.timedelta(days=i)) for i in range(len(df))]\n",
    "df['Last_Update'] = dates\n",
    "df = df[['Last_Update', 'Confirmed', 'Negative', 'Deaths']]"
   ]
  },
  {
   "cell_type": "code",
   "execution_count": 67,
   "metadata": {},
   "outputs": [],
   "source": [
    "new_cases = []\n",
    "previous = 0\n",
    "for i, row in df.iterrows():\n",
    "    delta = row.Confirmed - previous\n",
    "    new_cases.append(delta)\n",
    "    previous = row.Confirmed\n",
    "df['New_Cases'] = new_cases\n",
    "\n",
    "df['Population'] = [population] * len(df)"
   ]
  },
  {
   "cell_type": "code",
   "execution_count": 68,
   "metadata": {},
   "outputs": [
    {
     "data": {
      "text/html": [
       "<div>\n",
       "<style scoped>\n",
       "    .dataframe tbody tr th:only-of-type {\n",
       "        vertical-align: middle;\n",
       "    }\n",
       "\n",
       "    .dataframe tbody tr th {\n",
       "        vertical-align: top;\n",
       "    }\n",
       "\n",
       "    .dataframe thead th {\n",
       "        text-align: right;\n",
       "    }\n",
       "</style>\n",
       "<table border=\"1\" class=\"dataframe\">\n",
       "  <thead>\n",
       "    <tr style=\"text-align: right;\">\n",
       "      <th></th>\n",
       "      <th>Last_Update</th>\n",
       "      <th>Confirmed</th>\n",
       "      <th>Negative</th>\n",
       "      <th>Deaths</th>\n",
       "      <th>New_Cases</th>\n",
       "      <th>Population</th>\n",
       "    </tr>\n",
       "  </thead>\n",
       "  <tbody>\n",
       "    <tr>\n",
       "      <th>0</th>\n",
       "      <td>2020-03-01 12:00:00</td>\n",
       "      <td>0</td>\n",
       "      <td>0</td>\n",
       "      <td>0</td>\n",
       "      <td>0</td>\n",
       "      <td>566747</td>\n",
       "    </tr>\n",
       "    <tr>\n",
       "      <th>1</th>\n",
       "      <td>2020-03-02 12:00:00</td>\n",
       "      <td>0</td>\n",
       "      <td>0</td>\n",
       "      <td>0</td>\n",
       "      <td>0</td>\n",
       "      <td>566747</td>\n",
       "    </tr>\n",
       "    <tr>\n",
       "      <th>2</th>\n",
       "      <td>2020-03-03 12:00:00</td>\n",
       "      <td>0</td>\n",
       "      <td>0</td>\n",
       "      <td>0</td>\n",
       "      <td>0</td>\n",
       "      <td>566747</td>\n",
       "    </tr>\n",
       "    <tr>\n",
       "      <th>3</th>\n",
       "      <td>2020-03-04 12:00:00</td>\n",
       "      <td>0</td>\n",
       "      <td>0</td>\n",
       "      <td>0</td>\n",
       "      <td>0</td>\n",
       "      <td>566747</td>\n",
       "    </tr>\n",
       "    <tr>\n",
       "      <th>4</th>\n",
       "      <td>2020-03-05 12:00:00</td>\n",
       "      <td>1</td>\n",
       "      <td>0</td>\n",
       "      <td>0</td>\n",
       "      <td>1</td>\n",
       "      <td>566747</td>\n",
       "    </tr>\n",
       "    <tr>\n",
       "      <th>...</th>\n",
       "      <td>...</td>\n",
       "      <td>...</td>\n",
       "      <td>...</td>\n",
       "      <td>...</td>\n",
       "      <td>...</td>\n",
       "      <td>...</td>\n",
       "    </tr>\n",
       "    <tr>\n",
       "      <th>112</th>\n",
       "      <td>2020-06-21 12:00:00</td>\n",
       "      <td>7140</td>\n",
       "      <td>33397</td>\n",
       "      <td>691</td>\n",
       "      <td>11</td>\n",
       "      <td>566747</td>\n",
       "    </tr>\n",
       "    <tr>\n",
       "      <th>113</th>\n",
       "      <td>2020-06-22 12:00:00</td>\n",
       "      <td>7152</td>\n",
       "      <td>34092</td>\n",
       "      <td>692</td>\n",
       "      <td>12</td>\n",
       "      <td>566747</td>\n",
       "    </tr>\n",
       "    <tr>\n",
       "      <th>114</th>\n",
       "      <td>2020-06-23 12:00:00</td>\n",
       "      <td>7161</td>\n",
       "      <td>34400</td>\n",
       "      <td>693</td>\n",
       "      <td>9</td>\n",
       "      <td>566747</td>\n",
       "    </tr>\n",
       "    <tr>\n",
       "      <th>115</th>\n",
       "      <td>2020-06-24 12:00:00</td>\n",
       "      <td>7164</td>\n",
       "      <td>34474</td>\n",
       "      <td>693</td>\n",
       "      <td>3</td>\n",
       "      <td>566747</td>\n",
       "    </tr>\n",
       "    <tr>\n",
       "      <th>116</th>\n",
       "      <td>2020-06-25 12:00:00</td>\n",
       "      <td>7165</td>\n",
       "      <td>34500</td>\n",
       "      <td>693</td>\n",
       "      <td>1</td>\n",
       "      <td>566747</td>\n",
       "    </tr>\n",
       "  </tbody>\n",
       "</table>\n",
       "<p>117 rows × 6 columns</p>\n",
       "</div>"
      ],
      "text/plain": [
       "            Last_Update  Confirmed  Negative  Deaths  New_Cases  Population\n",
       "0   2020-03-01 12:00:00          0         0       0          0      566747\n",
       "1   2020-03-02 12:00:00          0         0       0          0      566747\n",
       "2   2020-03-03 12:00:00          0         0       0          0      566747\n",
       "3   2020-03-04 12:00:00          0         0       0          0      566747\n",
       "4   2020-03-05 12:00:00          1         0       0          1      566747\n",
       "..                  ...        ...       ...     ...        ...         ...\n",
       "112 2020-06-21 12:00:00       7140     33397     691         11      566747\n",
       "113 2020-06-22 12:00:00       7152     34092     692         12      566747\n",
       "114 2020-06-23 12:00:00       7161     34400     693          9      566747\n",
       "115 2020-06-24 12:00:00       7164     34474     693          3      566747\n",
       "116 2020-06-25 12:00:00       7165     34500     693          1      566747\n",
       "\n",
       "[117 rows x 6 columns]"
      ]
     },
     "execution_count": 68,
     "metadata": {},
     "output_type": "execute_result"
    }
   ],
   "source": [
    "df"
   ]
  },
  {
   "cell_type": "code",
   "execution_count": 72,
   "metadata": {},
   "outputs": [],
   "source": [
    "# Copied from plots\n",
    "\n",
    "plt_color = {'blue': '#1f77b4', 'orange': '#ff7f0e', 'green': '#2ca02c', 'purple': '#9467bd', 'olive': '#bcbd22'}\n",
    "\n",
    "def yellow_target_plotly(df, label, output=None, pngScale=None):\n",
    "    population = set(df.Population).pop()\n",
    "\n",
    "    days = 14\n",
    "    target = 50\n",
    "\n",
    "    percap = df[f'day_avg_{days}']*100000 / population * 14\n",
    "    target_lst = [target] * len(df.Last_Update)\n",
    "\n",
    "    fig = go.Figure()\n",
    "    fig.add_trace(\n",
    "            go.Scatter(\n",
    "                x = df.Last_Update,\n",
    "                y = percap,\n",
    "                mode = 'lines+markers',\n",
    "                name = f'{days} day per 100K',\n",
    "                line_color = plt_color['blue'],\n",
    "                hovertemplate = '<b>%{y:.1f}</b>',\n",
    "            )\n",
    "    )\n",
    "    fig.add_trace(\n",
    "        go.Scatter(\n",
    "            x = df.Last_Update,\n",
    "            y = target_lst,\n",
    "            mode = 'lines',\n",
    "            name = f'{target} cases per 100K',\n",
    "            line_color = plt_color['orange'],\n",
    "            hoverinfo = \"none\",\n",
    "        )\n",
    "    )\n",
    "\n",
    "    layout = go.Layout(\n",
    "        showlegend=False,  # updated for inline and html\n",
    "        xaxis_title=\"Date\",\n",
    "        yaxis_title=f\"Positive tests\",\n",
    "        font=dict(\n",
    "            size=12,\n",
    "            color=\"#7f7f7f\"\n",
    "        ),\n",
    "        hovermode=\"x unified\",\n",
    "    )\n",
    "    fig.update_layout(layout)\n",
    "    title = f\"New cases over 14 days per 100K residents: {label}\"\n",
    "    write_figure_plotly(fig, output, title, 'yellow_target', pngScale=pngScale)\n"
   ]
  },
  {
   "cell_type": "code",
   "execution_count": 73,
   "metadata": {},
   "outputs": [],
   "source": [
    "# Copied from plots\n",
    "def average_new_cases(df, days, centered=False):\n",
    "    \"\"\" this computes day the trailing average in the final day \"\"\"\n",
    "    \"\"\" compute the moving average over {days} days and add as day_avg_{days} to the df \"\"\"\n",
    "    field = f'day_avg_{days}'\n",
    "    df[field] = df.New_Cases.rolling(window=14, min_periods=1, center=centered).mean()"
   ]
  },
  {
   "cell_type": "code",
   "execution_count": 75,
   "metadata": {},
   "outputs": [],
   "source": [
    "# Copied from plots\n",
    "def write_figure_plotly(fig, output, title, description, pngScale=None):\n",
    "    full_layout = go.Layout(\n",
    "        title=title,\n",
    "        showlegend=True,\n",
    "    )\n",
    "    if output == 'inline':\n",
    "        fig.update_layout(full_layout)\n",
    "        fig.show()\n",
    "    else:\n",
    "        output = output.replace(\"'\",\"\").replace('.png', f'_{description}.png')\n",
    "        fig.write_image(output, scale=pngScale)\n",
    "        fig.update_layout(full_layout)\n",
    "        output = output.replace('.png', '.html')\n",
    "        #fig.write_html(output, include_plotlyjs=\"plotly.min.js\", full_html=True)\n",
    "        fig.write_html(output, include_plotlyjs=False, full_html=False)"
   ]
  },
  {
   "cell_type": "code",
   "execution_count": 78,
   "metadata": {},
   "outputs": [
    {
     "data": {
      "application/vnd.plotly.v1+json": {
       "config": {
        "plotlyServerURL": "https://plot.ly"
       },
       "data": [
        {
         "hovertemplate": "<b>%{y:.1f}</b>",
         "line": {
          "color": "#1f77b4"
         },
         "mode": "lines+markers",
         "name": "14 day per 100K",
         "type": "scatter",
         "x": [
          "2020-03-01T12:00:00",
          "2020-03-02T12:00:00",
          "2020-03-03T12:00:00",
          "2020-03-04T12:00:00",
          "2020-03-05T12:00:00",
          "2020-03-06T12:00:00",
          "2020-03-07T12:00:00",
          "2020-03-08T12:00:00",
          "2020-03-09T12:00:00",
          "2020-03-10T12:00:00",
          "2020-03-11T12:00:00",
          "2020-03-12T12:00:00",
          "2020-03-13T12:00:00",
          "2020-03-14T12:00:00",
          "2020-03-15T12:00:00",
          "2020-03-16T12:00:00",
          "2020-03-17T12:00:00",
          "2020-03-18T12:00:00",
          "2020-03-19T12:00:00",
          "2020-03-20T12:00:00",
          "2020-03-21T12:00:00",
          "2020-03-22T12:00:00",
          "2020-03-23T12:00:00",
          "2020-03-24T12:00:00",
          "2020-03-25T12:00:00",
          "2020-03-26T12:00:00",
          "2020-03-27T12:00:00",
          "2020-03-28T12:00:00",
          "2020-03-29T12:00:00",
          "2020-03-30T12:00:00",
          "2020-03-31T12:00:00",
          "2020-04-01T12:00:00",
          "2020-04-02T12:00:00",
          "2020-04-03T12:00:00",
          "2020-04-04T12:00:00",
          "2020-04-05T12:00:00",
          "2020-04-06T12:00:00",
          "2020-04-07T12:00:00",
          "2020-04-08T12:00:00",
          "2020-04-09T12:00:00",
          "2020-04-10T12:00:00",
          "2020-04-11T12:00:00",
          "2020-04-12T12:00:00",
          "2020-04-13T12:00:00",
          "2020-04-14T12:00:00",
          "2020-04-15T12:00:00",
          "2020-04-16T12:00:00",
          "2020-04-17T12:00:00",
          "2020-04-18T12:00:00",
          "2020-04-19T12:00:00",
          "2020-04-20T12:00:00",
          "2020-04-21T12:00:00",
          "2020-04-22T12:00:00",
          "2020-04-23T12:00:00",
          "2020-04-24T12:00:00",
          "2020-04-25T12:00:00",
          "2020-04-26T12:00:00",
          "2020-04-27T12:00:00",
          "2020-04-28T12:00:00",
          "2020-04-29T12:00:00",
          "2020-04-30T12:00:00",
          "2020-05-01T12:00:00",
          "2020-05-02T12:00:00",
          "2020-05-03T12:00:00",
          "2020-05-04T12:00:00",
          "2020-05-05T12:00:00",
          "2020-05-06T12:00:00",
          "2020-05-07T12:00:00",
          "2020-05-08T12:00:00",
          "2020-05-09T12:00:00",
          "2020-05-10T12:00:00",
          "2020-05-11T12:00:00",
          "2020-05-12T12:00:00",
          "2020-05-13T12:00:00",
          "2020-05-14T12:00:00",
          "2020-05-15T12:00:00",
          "2020-05-16T12:00:00",
          "2020-05-17T12:00:00",
          "2020-05-18T12:00:00",
          "2020-05-19T12:00:00",
          "2020-05-20T12:00:00",
          "2020-05-21T12:00:00",
          "2020-05-22T12:00:00",
          "2020-05-23T12:00:00",
          "2020-05-24T12:00:00",
          "2020-05-25T12:00:00",
          "2020-05-26T12:00:00",
          "2020-05-27T12:00:00",
          "2020-05-28T12:00:00",
          "2020-05-29T12:00:00",
          "2020-05-30T12:00:00",
          "2020-05-31T12:00:00",
          "2020-06-01T12:00:00",
          "2020-06-02T12:00:00",
          "2020-06-03T12:00:00",
          "2020-06-04T12:00:00",
          "2020-06-05T12:00:00",
          "2020-06-06T12:00:00",
          "2020-06-07T12:00:00",
          "2020-06-08T12:00:00",
          "2020-06-09T12:00:00",
          "2020-06-10T12:00:00",
          "2020-06-11T12:00:00",
          "2020-06-12T12:00:00",
          "2020-06-13T12:00:00",
          "2020-06-14T12:00:00",
          "2020-06-15T12:00:00",
          "2020-06-16T12:00:00",
          "2020-06-17T12:00:00",
          "2020-06-18T12:00:00",
          "2020-06-19T12:00:00",
          "2020-06-20T12:00:00",
          "2020-06-21T12:00:00",
          "2020-06-22T12:00:00",
          "2020-06-23T12:00:00",
          "2020-06-24T12:00:00",
          "2020-06-25T12:00:00"
         ],
         "y": [
          0,
          0,
          0,
          0,
          0.49404760854490626,
          0.4117063404540885,
          0.3528911489606473,
          0.3087797553405664,
          0.27447089363605903,
          0.49404760854490626,
          1.1228354739656963,
          1.4409721915893101,
          1.9001831097881012,
          2.117346893763884,
          2.8231291916851786,
          5.646258383370357,
          9.351615447457155,
          13.762754809465248,
          23.290815831402725,
          29.289965363733728,
          33.70110472574182,
          38.8180263856712,
          44.817175918002214,
          52.58078119513645,
          61.755951068113276,
          73.048467834854,
          85.7525491974373,
          94.22193677249285,
          101.45620532618611,
          116.2776335825333,
          130.04038839199856,
          144.5089254993851,
          152.27253077651932,
          168.85841477766976,
          175.73979218240234,
          181.0331594168121,
          196.7368155455609,
          212.96980839775065,
          232.02593044162563,
          239.61309014427954,
          248.7882600172564,
          253.3758449537448,
          253.55229052822511,
          257.43409316679225,
          273.31419487002137,
          288.6649598498095,
          306.66240844680254,
          308.25041861712543,
          313.36734027705484,
          312.8380035536139,
          323.95407474587427,
          325.5420849161971,
          327.4829862354808,
          343.0101967897492,
          354.8320502799309,
          352.3618122372064,
          352.5382578116867,
          360.4783086633012,
          356.7729515992144,
          346.18621713039505,
          330.1296698526856,
          332.0705711719691,
          327.13009508652004,
          327.4829862354808,
          319.3664898093858,
          313.0144491280942,
          301.54548678687314,
          283.1951470409195,
          260.0807767839971,
          255.66963742198897,
          251.9642803579022,
          236.61351537811404,
          226.55611763273558,
          218.26317563216037,
          217.55739333423907,
          209.26445133366386,
          202.0301827799706,
          196.56036997108055,
          187.56164567258406,
          182.97406073609565,
          179.09225809752854,
          171.85798954383526,
          171.5050983948746,
          170.622870522473,
          170.26997937351234,
          160.38902720261422,
          151.91963962755867,
          147.86139141451125,
          133.74574545608536,
          122.45322868934463,
          122.62967426382495,
          120.86521851902172,
          111.16071192260391,
          102.33843319858774,
          90.8694708573667,
          86.81122264431926,
          82.92942000575212,
          79.92984523958661,
          77.6360527713424,
          78.51828064374403,
          73.048467834854,
          66.16709043012138,
          66.87287272804268,
          64.93197140875913,
          62.10884221707393,
          61.22661434467231,
          58.75637630194778,
          56.639029408183895,
          57.34481170610519,
          54.52168251442002,
          50.11054315241192,
          49.58120642897096,
          49.58120642897096,
          46.58163166280545,
          42.52338344975801,
          38.641580811190885,
          33.524659151261496
         ]
        },
        {
         "hoverinfo": "none",
         "line": {
          "color": "#ff7f0e"
         },
         "mode": "lines",
         "name": "50 cases per 100K",
         "type": "scatter",
         "x": [
          "2020-03-01T12:00:00",
          "2020-03-02T12:00:00",
          "2020-03-03T12:00:00",
          "2020-03-04T12:00:00",
          "2020-03-05T12:00:00",
          "2020-03-06T12:00:00",
          "2020-03-07T12:00:00",
          "2020-03-08T12:00:00",
          "2020-03-09T12:00:00",
          "2020-03-10T12:00:00",
          "2020-03-11T12:00:00",
          "2020-03-12T12:00:00",
          "2020-03-13T12:00:00",
          "2020-03-14T12:00:00",
          "2020-03-15T12:00:00",
          "2020-03-16T12:00:00",
          "2020-03-17T12:00:00",
          "2020-03-18T12:00:00",
          "2020-03-19T12:00:00",
          "2020-03-20T12:00:00",
          "2020-03-21T12:00:00",
          "2020-03-22T12:00:00",
          "2020-03-23T12:00:00",
          "2020-03-24T12:00:00",
          "2020-03-25T12:00:00",
          "2020-03-26T12:00:00",
          "2020-03-27T12:00:00",
          "2020-03-28T12:00:00",
          "2020-03-29T12:00:00",
          "2020-03-30T12:00:00",
          "2020-03-31T12:00:00",
          "2020-04-01T12:00:00",
          "2020-04-02T12:00:00",
          "2020-04-03T12:00:00",
          "2020-04-04T12:00:00",
          "2020-04-05T12:00:00",
          "2020-04-06T12:00:00",
          "2020-04-07T12:00:00",
          "2020-04-08T12:00:00",
          "2020-04-09T12:00:00",
          "2020-04-10T12:00:00",
          "2020-04-11T12:00:00",
          "2020-04-12T12:00:00",
          "2020-04-13T12:00:00",
          "2020-04-14T12:00:00",
          "2020-04-15T12:00:00",
          "2020-04-16T12:00:00",
          "2020-04-17T12:00:00",
          "2020-04-18T12:00:00",
          "2020-04-19T12:00:00",
          "2020-04-20T12:00:00",
          "2020-04-21T12:00:00",
          "2020-04-22T12:00:00",
          "2020-04-23T12:00:00",
          "2020-04-24T12:00:00",
          "2020-04-25T12:00:00",
          "2020-04-26T12:00:00",
          "2020-04-27T12:00:00",
          "2020-04-28T12:00:00",
          "2020-04-29T12:00:00",
          "2020-04-30T12:00:00",
          "2020-05-01T12:00:00",
          "2020-05-02T12:00:00",
          "2020-05-03T12:00:00",
          "2020-05-04T12:00:00",
          "2020-05-05T12:00:00",
          "2020-05-06T12:00:00",
          "2020-05-07T12:00:00",
          "2020-05-08T12:00:00",
          "2020-05-09T12:00:00",
          "2020-05-10T12:00:00",
          "2020-05-11T12:00:00",
          "2020-05-12T12:00:00",
          "2020-05-13T12:00:00",
          "2020-05-14T12:00:00",
          "2020-05-15T12:00:00",
          "2020-05-16T12:00:00",
          "2020-05-17T12:00:00",
          "2020-05-18T12:00:00",
          "2020-05-19T12:00:00",
          "2020-05-20T12:00:00",
          "2020-05-21T12:00:00",
          "2020-05-22T12:00:00",
          "2020-05-23T12:00:00",
          "2020-05-24T12:00:00",
          "2020-05-25T12:00:00",
          "2020-05-26T12:00:00",
          "2020-05-27T12:00:00",
          "2020-05-28T12:00:00",
          "2020-05-29T12:00:00",
          "2020-05-30T12:00:00",
          "2020-05-31T12:00:00",
          "2020-06-01T12:00:00",
          "2020-06-02T12:00:00",
          "2020-06-03T12:00:00",
          "2020-06-04T12:00:00",
          "2020-06-05T12:00:00",
          "2020-06-06T12:00:00",
          "2020-06-07T12:00:00",
          "2020-06-08T12:00:00",
          "2020-06-09T12:00:00",
          "2020-06-10T12:00:00",
          "2020-06-11T12:00:00",
          "2020-06-12T12:00:00",
          "2020-06-13T12:00:00",
          "2020-06-14T12:00:00",
          "2020-06-15T12:00:00",
          "2020-06-16T12:00:00",
          "2020-06-17T12:00:00",
          "2020-06-18T12:00:00",
          "2020-06-19T12:00:00",
          "2020-06-20T12:00:00",
          "2020-06-21T12:00:00",
          "2020-06-22T12:00:00",
          "2020-06-23T12:00:00",
          "2020-06-24T12:00:00",
          "2020-06-25T12:00:00"
         ],
         "y": [
          50,
          50,
          50,
          50,
          50,
          50,
          50,
          50,
          50,
          50,
          50,
          50,
          50,
          50,
          50,
          50,
          50,
          50,
          50,
          50,
          50,
          50,
          50,
          50,
          50,
          50,
          50,
          50,
          50,
          50,
          50,
          50,
          50,
          50,
          50,
          50,
          50,
          50,
          50,
          50,
          50,
          50,
          50,
          50,
          50,
          50,
          50,
          50,
          50,
          50,
          50,
          50,
          50,
          50,
          50,
          50,
          50,
          50,
          50,
          50,
          50,
          50,
          50,
          50,
          50,
          50,
          50,
          50,
          50,
          50,
          50,
          50,
          50,
          50,
          50,
          50,
          50,
          50,
          50,
          50,
          50,
          50,
          50,
          50,
          50,
          50,
          50,
          50,
          50,
          50,
          50,
          50,
          50,
          50,
          50,
          50,
          50,
          50,
          50,
          50,
          50,
          50,
          50,
          50,
          50,
          50,
          50,
          50,
          50,
          50,
          50,
          50,
          50,
          50,
          50,
          50,
          50
         ]
        }
       ],
       "layout": {
        "font": {
         "color": "#7f7f7f",
         "size": 12
        },
        "hovermode": "x unified",
        "showlegend": true,
        "template": {
         "data": {
          "bar": [
           {
            "error_x": {
             "color": "#2a3f5f"
            },
            "error_y": {
             "color": "#2a3f5f"
            },
            "marker": {
             "line": {
              "color": "#E5ECF6",
              "width": 0.5
             }
            },
            "type": "bar"
           }
          ],
          "barpolar": [
           {
            "marker": {
             "line": {
              "color": "#E5ECF6",
              "width": 0.5
             }
            },
            "type": "barpolar"
           }
          ],
          "carpet": [
           {
            "aaxis": {
             "endlinecolor": "#2a3f5f",
             "gridcolor": "white",
             "linecolor": "white",
             "minorgridcolor": "white",
             "startlinecolor": "#2a3f5f"
            },
            "baxis": {
             "endlinecolor": "#2a3f5f",
             "gridcolor": "white",
             "linecolor": "white",
             "minorgridcolor": "white",
             "startlinecolor": "#2a3f5f"
            },
            "type": "carpet"
           }
          ],
          "choropleth": [
           {
            "colorbar": {
             "outlinewidth": 0,
             "ticks": ""
            },
            "type": "choropleth"
           }
          ],
          "contour": [
           {
            "colorbar": {
             "outlinewidth": 0,
             "ticks": ""
            },
            "colorscale": [
             [
              0,
              "#0d0887"
             ],
             [
              0.1111111111111111,
              "#46039f"
             ],
             [
              0.2222222222222222,
              "#7201a8"
             ],
             [
              0.3333333333333333,
              "#9c179e"
             ],
             [
              0.4444444444444444,
              "#bd3786"
             ],
             [
              0.5555555555555556,
              "#d8576b"
             ],
             [
              0.6666666666666666,
              "#ed7953"
             ],
             [
              0.7777777777777778,
              "#fb9f3a"
             ],
             [
              0.8888888888888888,
              "#fdca26"
             ],
             [
              1,
              "#f0f921"
             ]
            ],
            "type": "contour"
           }
          ],
          "contourcarpet": [
           {
            "colorbar": {
             "outlinewidth": 0,
             "ticks": ""
            },
            "type": "contourcarpet"
           }
          ],
          "heatmap": [
           {
            "colorbar": {
             "outlinewidth": 0,
             "ticks": ""
            },
            "colorscale": [
             [
              0,
              "#0d0887"
             ],
             [
              0.1111111111111111,
              "#46039f"
             ],
             [
              0.2222222222222222,
              "#7201a8"
             ],
             [
              0.3333333333333333,
              "#9c179e"
             ],
             [
              0.4444444444444444,
              "#bd3786"
             ],
             [
              0.5555555555555556,
              "#d8576b"
             ],
             [
              0.6666666666666666,
              "#ed7953"
             ],
             [
              0.7777777777777778,
              "#fb9f3a"
             ],
             [
              0.8888888888888888,
              "#fdca26"
             ],
             [
              1,
              "#f0f921"
             ]
            ],
            "type": "heatmap"
           }
          ],
          "heatmapgl": [
           {
            "colorbar": {
             "outlinewidth": 0,
             "ticks": ""
            },
            "colorscale": [
             [
              0,
              "#0d0887"
             ],
             [
              0.1111111111111111,
              "#46039f"
             ],
             [
              0.2222222222222222,
              "#7201a8"
             ],
             [
              0.3333333333333333,
              "#9c179e"
             ],
             [
              0.4444444444444444,
              "#bd3786"
             ],
             [
              0.5555555555555556,
              "#d8576b"
             ],
             [
              0.6666666666666666,
              "#ed7953"
             ],
             [
              0.7777777777777778,
              "#fb9f3a"
             ],
             [
              0.8888888888888888,
              "#fdca26"
             ],
             [
              1,
              "#f0f921"
             ]
            ],
            "type": "heatmapgl"
           }
          ],
          "histogram": [
           {
            "marker": {
             "colorbar": {
              "outlinewidth": 0,
              "ticks": ""
             }
            },
            "type": "histogram"
           }
          ],
          "histogram2d": [
           {
            "colorbar": {
             "outlinewidth": 0,
             "ticks": ""
            },
            "colorscale": [
             [
              0,
              "#0d0887"
             ],
             [
              0.1111111111111111,
              "#46039f"
             ],
             [
              0.2222222222222222,
              "#7201a8"
             ],
             [
              0.3333333333333333,
              "#9c179e"
             ],
             [
              0.4444444444444444,
              "#bd3786"
             ],
             [
              0.5555555555555556,
              "#d8576b"
             ],
             [
              0.6666666666666666,
              "#ed7953"
             ],
             [
              0.7777777777777778,
              "#fb9f3a"
             ],
             [
              0.8888888888888888,
              "#fdca26"
             ],
             [
              1,
              "#f0f921"
             ]
            ],
            "type": "histogram2d"
           }
          ],
          "histogram2dcontour": [
           {
            "colorbar": {
             "outlinewidth": 0,
             "ticks": ""
            },
            "colorscale": [
             [
              0,
              "#0d0887"
             ],
             [
              0.1111111111111111,
              "#46039f"
             ],
             [
              0.2222222222222222,
              "#7201a8"
             ],
             [
              0.3333333333333333,
              "#9c179e"
             ],
             [
              0.4444444444444444,
              "#bd3786"
             ],
             [
              0.5555555555555556,
              "#d8576b"
             ],
             [
              0.6666666666666666,
              "#ed7953"
             ],
             [
              0.7777777777777778,
              "#fb9f3a"
             ],
             [
              0.8888888888888888,
              "#fdca26"
             ],
             [
              1,
              "#f0f921"
             ]
            ],
            "type": "histogram2dcontour"
           }
          ],
          "mesh3d": [
           {
            "colorbar": {
             "outlinewidth": 0,
             "ticks": ""
            },
            "type": "mesh3d"
           }
          ],
          "parcoords": [
           {
            "line": {
             "colorbar": {
              "outlinewidth": 0,
              "ticks": ""
             }
            },
            "type": "parcoords"
           }
          ],
          "pie": [
           {
            "automargin": true,
            "type": "pie"
           }
          ],
          "scatter": [
           {
            "marker": {
             "colorbar": {
              "outlinewidth": 0,
              "ticks": ""
             }
            },
            "type": "scatter"
           }
          ],
          "scatter3d": [
           {
            "line": {
             "colorbar": {
              "outlinewidth": 0,
              "ticks": ""
             }
            },
            "marker": {
             "colorbar": {
              "outlinewidth": 0,
              "ticks": ""
             }
            },
            "type": "scatter3d"
           }
          ],
          "scattercarpet": [
           {
            "marker": {
             "colorbar": {
              "outlinewidth": 0,
              "ticks": ""
             }
            },
            "type": "scattercarpet"
           }
          ],
          "scattergeo": [
           {
            "marker": {
             "colorbar": {
              "outlinewidth": 0,
              "ticks": ""
             }
            },
            "type": "scattergeo"
           }
          ],
          "scattergl": [
           {
            "marker": {
             "colorbar": {
              "outlinewidth": 0,
              "ticks": ""
             }
            },
            "type": "scattergl"
           }
          ],
          "scattermapbox": [
           {
            "marker": {
             "colorbar": {
              "outlinewidth": 0,
              "ticks": ""
             }
            },
            "type": "scattermapbox"
           }
          ],
          "scatterpolar": [
           {
            "marker": {
             "colorbar": {
              "outlinewidth": 0,
              "ticks": ""
             }
            },
            "type": "scatterpolar"
           }
          ],
          "scatterpolargl": [
           {
            "marker": {
             "colorbar": {
              "outlinewidth": 0,
              "ticks": ""
             }
            },
            "type": "scatterpolargl"
           }
          ],
          "scatterternary": [
           {
            "marker": {
             "colorbar": {
              "outlinewidth": 0,
              "ticks": ""
             }
            },
            "type": "scatterternary"
           }
          ],
          "surface": [
           {
            "colorbar": {
             "outlinewidth": 0,
             "ticks": ""
            },
            "colorscale": [
             [
              0,
              "#0d0887"
             ],
             [
              0.1111111111111111,
              "#46039f"
             ],
             [
              0.2222222222222222,
              "#7201a8"
             ],
             [
              0.3333333333333333,
              "#9c179e"
             ],
             [
              0.4444444444444444,
              "#bd3786"
             ],
             [
              0.5555555555555556,
              "#d8576b"
             ],
             [
              0.6666666666666666,
              "#ed7953"
             ],
             [
              0.7777777777777778,
              "#fb9f3a"
             ],
             [
              0.8888888888888888,
              "#fdca26"
             ],
             [
              1,
              "#f0f921"
             ]
            ],
            "type": "surface"
           }
          ],
          "table": [
           {
            "cells": {
             "fill": {
              "color": "#EBF0F8"
             },
             "line": {
              "color": "white"
             }
            },
            "header": {
             "fill": {
              "color": "#C8D4E3"
             },
             "line": {
              "color": "white"
             }
            },
            "type": "table"
           }
          ]
         },
         "layout": {
          "annotationdefaults": {
           "arrowcolor": "#2a3f5f",
           "arrowhead": 0,
           "arrowwidth": 1
          },
          "coloraxis": {
           "colorbar": {
            "outlinewidth": 0,
            "ticks": ""
           }
          },
          "colorscale": {
           "diverging": [
            [
             0,
             "#8e0152"
            ],
            [
             0.1,
             "#c51b7d"
            ],
            [
             0.2,
             "#de77ae"
            ],
            [
             0.3,
             "#f1b6da"
            ],
            [
             0.4,
             "#fde0ef"
            ],
            [
             0.5,
             "#f7f7f7"
            ],
            [
             0.6,
             "#e6f5d0"
            ],
            [
             0.7,
             "#b8e186"
            ],
            [
             0.8,
             "#7fbc41"
            ],
            [
             0.9,
             "#4d9221"
            ],
            [
             1,
             "#276419"
            ]
           ],
           "sequential": [
            [
             0,
             "#0d0887"
            ],
            [
             0.1111111111111111,
             "#46039f"
            ],
            [
             0.2222222222222222,
             "#7201a8"
            ],
            [
             0.3333333333333333,
             "#9c179e"
            ],
            [
             0.4444444444444444,
             "#bd3786"
            ],
            [
             0.5555555555555556,
             "#d8576b"
            ],
            [
             0.6666666666666666,
             "#ed7953"
            ],
            [
             0.7777777777777778,
             "#fb9f3a"
            ],
            [
             0.8888888888888888,
             "#fdca26"
            ],
            [
             1,
             "#f0f921"
            ]
           ],
           "sequentialminus": [
            [
             0,
             "#0d0887"
            ],
            [
             0.1111111111111111,
             "#46039f"
            ],
            [
             0.2222222222222222,
             "#7201a8"
            ],
            [
             0.3333333333333333,
             "#9c179e"
            ],
            [
             0.4444444444444444,
             "#bd3786"
            ],
            [
             0.5555555555555556,
             "#d8576b"
            ],
            [
             0.6666666666666666,
             "#ed7953"
            ],
            [
             0.7777777777777778,
             "#fb9f3a"
            ],
            [
             0.8888888888888888,
             "#fdca26"
            ],
            [
             1,
             "#f0f921"
            ]
           ]
          },
          "colorway": [
           "#636efa",
           "#EF553B",
           "#00cc96",
           "#ab63fa",
           "#FFA15A",
           "#19d3f3",
           "#FF6692",
           "#B6E880",
           "#FF97FF",
           "#FECB52"
          ],
          "font": {
           "color": "#2a3f5f"
          },
          "geo": {
           "bgcolor": "white",
           "lakecolor": "white",
           "landcolor": "#E5ECF6",
           "showlakes": true,
           "showland": true,
           "subunitcolor": "white"
          },
          "hoverlabel": {
           "align": "left"
          },
          "hovermode": "closest",
          "mapbox": {
           "style": "light"
          },
          "paper_bgcolor": "white",
          "plot_bgcolor": "#E5ECF6",
          "polar": {
           "angularaxis": {
            "gridcolor": "white",
            "linecolor": "white",
            "ticks": ""
           },
           "bgcolor": "#E5ECF6",
           "radialaxis": {
            "gridcolor": "white",
            "linecolor": "white",
            "ticks": ""
           }
          },
          "scene": {
           "xaxis": {
            "backgroundcolor": "#E5ECF6",
            "gridcolor": "white",
            "gridwidth": 2,
            "linecolor": "white",
            "showbackground": true,
            "ticks": "",
            "zerolinecolor": "white"
           },
           "yaxis": {
            "backgroundcolor": "#E5ECF6",
            "gridcolor": "white",
            "gridwidth": 2,
            "linecolor": "white",
            "showbackground": true,
            "ticks": "",
            "zerolinecolor": "white"
           },
           "zaxis": {
            "backgroundcolor": "#E5ECF6",
            "gridcolor": "white",
            "gridwidth": 2,
            "linecolor": "white",
            "showbackground": true,
            "ticks": "",
            "zerolinecolor": "white"
           }
          },
          "shapedefaults": {
           "line": {
            "color": "#2a3f5f"
           }
          },
          "ternary": {
           "aaxis": {
            "gridcolor": "white",
            "linecolor": "white",
            "ticks": ""
           },
           "baxis": {
            "gridcolor": "white",
            "linecolor": "white",
            "ticks": ""
           },
           "bgcolor": "#E5ECF6",
           "caxis": {
            "gridcolor": "white",
            "linecolor": "white",
            "ticks": ""
           }
          },
          "title": {
           "x": 0.05
          },
          "xaxis": {
           "automargin": true,
           "gridcolor": "white",
           "linecolor": "white",
           "ticks": "",
           "title": {
            "standoff": 15
           },
           "zerolinecolor": "white",
           "zerolinewidth": 2
          },
          "yaxis": {
           "automargin": true,
           "gridcolor": "white",
           "linecolor": "white",
           "ticks": "",
           "title": {
            "standoff": 15
           },
           "zerolinecolor": "white",
           "zerolinewidth": 2
          }
         }
        },
        "title": {
         "text": "New cases over 14 days per 100K residents: Delaware County (via CC Health Dept)"
        },
        "xaxis": {
         "title": {
          "text": "Date"
         }
        },
        "yaxis": {
         "title": {
          "text": "Positive tests"
         }
        }
       }
      },
      "text/html": [
       "<div>\n",
       "        \n",
       "        \n",
       "            <div id=\"c429f75e-cadd-4bfd-a2d1-70d5310daf3b\" class=\"plotly-graph-div\" style=\"height:525px; width:100%;\"></div>\n",
       "            <script type=\"text/javascript\">\n",
       "                require([\"plotly\"], function(Plotly) {\n",
       "                    window.PLOTLYENV=window.PLOTLYENV || {};\n",
       "                    \n",
       "                if (document.getElementById(\"c429f75e-cadd-4bfd-a2d1-70d5310daf3b\")) {\n",
       "                    Plotly.newPlot(\n",
       "                        'c429f75e-cadd-4bfd-a2d1-70d5310daf3b',\n",
       "                        [{\"hovertemplate\": \"<b>%{y:.1f}</b>\", \"line\": {\"color\": \"#1f77b4\"}, \"mode\": \"lines+markers\", \"name\": \"14 day per 100K\", \"type\": \"scatter\", \"x\": [\"2020-03-01T12:00:00\", \"2020-03-02T12:00:00\", \"2020-03-03T12:00:00\", \"2020-03-04T12:00:00\", \"2020-03-05T12:00:00\", \"2020-03-06T12:00:00\", \"2020-03-07T12:00:00\", \"2020-03-08T12:00:00\", \"2020-03-09T12:00:00\", \"2020-03-10T12:00:00\", \"2020-03-11T12:00:00\", \"2020-03-12T12:00:00\", \"2020-03-13T12:00:00\", \"2020-03-14T12:00:00\", \"2020-03-15T12:00:00\", \"2020-03-16T12:00:00\", \"2020-03-17T12:00:00\", \"2020-03-18T12:00:00\", \"2020-03-19T12:00:00\", \"2020-03-20T12:00:00\", \"2020-03-21T12:00:00\", \"2020-03-22T12:00:00\", \"2020-03-23T12:00:00\", \"2020-03-24T12:00:00\", \"2020-03-25T12:00:00\", \"2020-03-26T12:00:00\", \"2020-03-27T12:00:00\", \"2020-03-28T12:00:00\", \"2020-03-29T12:00:00\", \"2020-03-30T12:00:00\", \"2020-03-31T12:00:00\", \"2020-04-01T12:00:00\", \"2020-04-02T12:00:00\", \"2020-04-03T12:00:00\", \"2020-04-04T12:00:00\", \"2020-04-05T12:00:00\", \"2020-04-06T12:00:00\", \"2020-04-07T12:00:00\", \"2020-04-08T12:00:00\", \"2020-04-09T12:00:00\", \"2020-04-10T12:00:00\", \"2020-04-11T12:00:00\", \"2020-04-12T12:00:00\", \"2020-04-13T12:00:00\", \"2020-04-14T12:00:00\", \"2020-04-15T12:00:00\", \"2020-04-16T12:00:00\", \"2020-04-17T12:00:00\", \"2020-04-18T12:00:00\", \"2020-04-19T12:00:00\", \"2020-04-20T12:00:00\", \"2020-04-21T12:00:00\", \"2020-04-22T12:00:00\", \"2020-04-23T12:00:00\", \"2020-04-24T12:00:00\", \"2020-04-25T12:00:00\", \"2020-04-26T12:00:00\", \"2020-04-27T12:00:00\", \"2020-04-28T12:00:00\", \"2020-04-29T12:00:00\", \"2020-04-30T12:00:00\", \"2020-05-01T12:00:00\", \"2020-05-02T12:00:00\", \"2020-05-03T12:00:00\", \"2020-05-04T12:00:00\", \"2020-05-05T12:00:00\", \"2020-05-06T12:00:00\", \"2020-05-07T12:00:00\", \"2020-05-08T12:00:00\", \"2020-05-09T12:00:00\", \"2020-05-10T12:00:00\", \"2020-05-11T12:00:00\", \"2020-05-12T12:00:00\", \"2020-05-13T12:00:00\", \"2020-05-14T12:00:00\", \"2020-05-15T12:00:00\", \"2020-05-16T12:00:00\", \"2020-05-17T12:00:00\", \"2020-05-18T12:00:00\", \"2020-05-19T12:00:00\", \"2020-05-20T12:00:00\", \"2020-05-21T12:00:00\", \"2020-05-22T12:00:00\", \"2020-05-23T12:00:00\", \"2020-05-24T12:00:00\", \"2020-05-25T12:00:00\", \"2020-05-26T12:00:00\", \"2020-05-27T12:00:00\", \"2020-05-28T12:00:00\", \"2020-05-29T12:00:00\", \"2020-05-30T12:00:00\", \"2020-05-31T12:00:00\", \"2020-06-01T12:00:00\", \"2020-06-02T12:00:00\", \"2020-06-03T12:00:00\", \"2020-06-04T12:00:00\", \"2020-06-05T12:00:00\", \"2020-06-06T12:00:00\", \"2020-06-07T12:00:00\", \"2020-06-08T12:00:00\", \"2020-06-09T12:00:00\", \"2020-06-10T12:00:00\", \"2020-06-11T12:00:00\", \"2020-06-12T12:00:00\", \"2020-06-13T12:00:00\", \"2020-06-14T12:00:00\", \"2020-06-15T12:00:00\", \"2020-06-16T12:00:00\", \"2020-06-17T12:00:00\", \"2020-06-18T12:00:00\", \"2020-06-19T12:00:00\", \"2020-06-20T12:00:00\", \"2020-06-21T12:00:00\", \"2020-06-22T12:00:00\", \"2020-06-23T12:00:00\", \"2020-06-24T12:00:00\", \"2020-06-25T12:00:00\"], \"y\": [0.0, 0.0, 0.0, 0.0, 0.49404760854490626, 0.4117063404540885, 0.3528911489606473, 0.3087797553405664, 0.27447089363605903, 0.49404760854490626, 1.1228354739656963, 1.4409721915893101, 1.9001831097881012, 2.117346893763884, 2.8231291916851786, 5.646258383370357, 9.351615447457155, 13.762754809465248, 23.290815831402725, 29.289965363733728, 33.70110472574182, 38.8180263856712, 44.817175918002214, 52.58078119513645, 61.755951068113276, 73.048467834854, 85.7525491974373, 94.22193677249285, 101.45620532618611, 116.2776335825333, 130.04038839199856, 144.5089254993851, 152.27253077651932, 168.85841477766976, 175.73979218240234, 181.0331594168121, 196.7368155455609, 212.96980839775065, 232.02593044162563, 239.61309014427954, 248.7882600172564, 253.3758449537448, 253.55229052822511, 257.43409316679225, 273.31419487002137, 288.6649598498095, 306.66240844680254, 308.25041861712543, 313.36734027705484, 312.8380035536139, 323.95407474587427, 325.5420849161971, 327.4829862354808, 343.0101967897492, 354.8320502799309, 352.3618122372064, 352.5382578116867, 360.4783086633012, 356.7729515992144, 346.18621713039505, 330.1296698526856, 332.0705711719691, 327.13009508652004, 327.4829862354808, 319.3664898093858, 313.0144491280942, 301.54548678687314, 283.1951470409195, 260.0807767839971, 255.66963742198897, 251.9642803579022, 236.61351537811404, 226.55611763273558, 218.26317563216037, 217.55739333423907, 209.26445133366386, 202.0301827799706, 196.56036997108055, 187.56164567258406, 182.97406073609565, 179.09225809752854, 171.85798954383526, 171.5050983948746, 170.622870522473, 170.26997937351234, 160.38902720261422, 151.91963962755867, 147.86139141451125, 133.74574545608536, 122.45322868934463, 122.62967426382495, 120.86521851902172, 111.16071192260391, 102.33843319858774, 90.8694708573667, 86.81122264431926, 82.92942000575212, 79.92984523958661, 77.6360527713424, 78.51828064374403, 73.048467834854, 66.16709043012138, 66.87287272804268, 64.93197140875913, 62.10884221707393, 61.22661434467231, 58.75637630194778, 56.639029408183895, 57.34481170610519, 54.52168251442002, 50.11054315241192, 49.58120642897096, 49.58120642897096, 46.58163166280545, 42.52338344975801, 38.641580811190885, 33.524659151261496]}, {\"hoverinfo\": \"none\", \"line\": {\"color\": \"#ff7f0e\"}, \"mode\": \"lines\", \"name\": \"50 cases per 100K\", \"type\": \"scatter\", \"x\": [\"2020-03-01T12:00:00\", \"2020-03-02T12:00:00\", \"2020-03-03T12:00:00\", \"2020-03-04T12:00:00\", \"2020-03-05T12:00:00\", \"2020-03-06T12:00:00\", \"2020-03-07T12:00:00\", \"2020-03-08T12:00:00\", \"2020-03-09T12:00:00\", \"2020-03-10T12:00:00\", \"2020-03-11T12:00:00\", \"2020-03-12T12:00:00\", \"2020-03-13T12:00:00\", \"2020-03-14T12:00:00\", \"2020-03-15T12:00:00\", \"2020-03-16T12:00:00\", \"2020-03-17T12:00:00\", \"2020-03-18T12:00:00\", \"2020-03-19T12:00:00\", \"2020-03-20T12:00:00\", \"2020-03-21T12:00:00\", \"2020-03-22T12:00:00\", \"2020-03-23T12:00:00\", \"2020-03-24T12:00:00\", \"2020-03-25T12:00:00\", \"2020-03-26T12:00:00\", \"2020-03-27T12:00:00\", \"2020-03-28T12:00:00\", \"2020-03-29T12:00:00\", \"2020-03-30T12:00:00\", \"2020-03-31T12:00:00\", \"2020-04-01T12:00:00\", \"2020-04-02T12:00:00\", \"2020-04-03T12:00:00\", \"2020-04-04T12:00:00\", \"2020-04-05T12:00:00\", \"2020-04-06T12:00:00\", \"2020-04-07T12:00:00\", \"2020-04-08T12:00:00\", \"2020-04-09T12:00:00\", \"2020-04-10T12:00:00\", \"2020-04-11T12:00:00\", \"2020-04-12T12:00:00\", \"2020-04-13T12:00:00\", \"2020-04-14T12:00:00\", \"2020-04-15T12:00:00\", \"2020-04-16T12:00:00\", \"2020-04-17T12:00:00\", \"2020-04-18T12:00:00\", \"2020-04-19T12:00:00\", \"2020-04-20T12:00:00\", \"2020-04-21T12:00:00\", \"2020-04-22T12:00:00\", \"2020-04-23T12:00:00\", \"2020-04-24T12:00:00\", \"2020-04-25T12:00:00\", \"2020-04-26T12:00:00\", \"2020-04-27T12:00:00\", \"2020-04-28T12:00:00\", \"2020-04-29T12:00:00\", \"2020-04-30T12:00:00\", \"2020-05-01T12:00:00\", \"2020-05-02T12:00:00\", \"2020-05-03T12:00:00\", \"2020-05-04T12:00:00\", \"2020-05-05T12:00:00\", \"2020-05-06T12:00:00\", \"2020-05-07T12:00:00\", \"2020-05-08T12:00:00\", \"2020-05-09T12:00:00\", \"2020-05-10T12:00:00\", \"2020-05-11T12:00:00\", \"2020-05-12T12:00:00\", \"2020-05-13T12:00:00\", \"2020-05-14T12:00:00\", \"2020-05-15T12:00:00\", \"2020-05-16T12:00:00\", \"2020-05-17T12:00:00\", \"2020-05-18T12:00:00\", \"2020-05-19T12:00:00\", \"2020-05-20T12:00:00\", \"2020-05-21T12:00:00\", \"2020-05-22T12:00:00\", \"2020-05-23T12:00:00\", \"2020-05-24T12:00:00\", \"2020-05-25T12:00:00\", \"2020-05-26T12:00:00\", \"2020-05-27T12:00:00\", \"2020-05-28T12:00:00\", \"2020-05-29T12:00:00\", \"2020-05-30T12:00:00\", \"2020-05-31T12:00:00\", \"2020-06-01T12:00:00\", \"2020-06-02T12:00:00\", \"2020-06-03T12:00:00\", \"2020-06-04T12:00:00\", \"2020-06-05T12:00:00\", \"2020-06-06T12:00:00\", \"2020-06-07T12:00:00\", \"2020-06-08T12:00:00\", \"2020-06-09T12:00:00\", \"2020-06-10T12:00:00\", \"2020-06-11T12:00:00\", \"2020-06-12T12:00:00\", \"2020-06-13T12:00:00\", \"2020-06-14T12:00:00\", \"2020-06-15T12:00:00\", \"2020-06-16T12:00:00\", \"2020-06-17T12:00:00\", \"2020-06-18T12:00:00\", \"2020-06-19T12:00:00\", \"2020-06-20T12:00:00\", \"2020-06-21T12:00:00\", \"2020-06-22T12:00:00\", \"2020-06-23T12:00:00\", \"2020-06-24T12:00:00\", \"2020-06-25T12:00:00\"], \"y\": [50, 50, 50, 50, 50, 50, 50, 50, 50, 50, 50, 50, 50, 50, 50, 50, 50, 50, 50, 50, 50, 50, 50, 50, 50, 50, 50, 50, 50, 50, 50, 50, 50, 50, 50, 50, 50, 50, 50, 50, 50, 50, 50, 50, 50, 50, 50, 50, 50, 50, 50, 50, 50, 50, 50, 50, 50, 50, 50, 50, 50, 50, 50, 50, 50, 50, 50, 50, 50, 50, 50, 50, 50, 50, 50, 50, 50, 50, 50, 50, 50, 50, 50, 50, 50, 50, 50, 50, 50, 50, 50, 50, 50, 50, 50, 50, 50, 50, 50, 50, 50, 50, 50, 50, 50, 50, 50, 50, 50, 50, 50, 50, 50, 50, 50, 50, 50]}],\n",
       "                        {\"font\": {\"color\": \"#7f7f7f\", \"size\": 12}, \"hovermode\": \"x unified\", \"showlegend\": true, \"template\": {\"data\": {\"bar\": [{\"error_x\": {\"color\": \"#2a3f5f\"}, \"error_y\": {\"color\": \"#2a3f5f\"}, \"marker\": {\"line\": {\"color\": \"#E5ECF6\", \"width\": 0.5}}, \"type\": \"bar\"}], \"barpolar\": [{\"marker\": {\"line\": {\"color\": \"#E5ECF6\", \"width\": 0.5}}, \"type\": \"barpolar\"}], \"carpet\": [{\"aaxis\": {\"endlinecolor\": \"#2a3f5f\", \"gridcolor\": \"white\", \"linecolor\": \"white\", \"minorgridcolor\": \"white\", \"startlinecolor\": \"#2a3f5f\"}, \"baxis\": {\"endlinecolor\": \"#2a3f5f\", \"gridcolor\": \"white\", \"linecolor\": \"white\", \"minorgridcolor\": \"white\", \"startlinecolor\": \"#2a3f5f\"}, \"type\": \"carpet\"}], \"choropleth\": [{\"colorbar\": {\"outlinewidth\": 0, \"ticks\": \"\"}, \"type\": \"choropleth\"}], \"contour\": [{\"colorbar\": {\"outlinewidth\": 0, \"ticks\": \"\"}, \"colorscale\": [[0.0, \"#0d0887\"], [0.1111111111111111, \"#46039f\"], [0.2222222222222222, \"#7201a8\"], [0.3333333333333333, \"#9c179e\"], [0.4444444444444444, \"#bd3786\"], [0.5555555555555556, \"#d8576b\"], [0.6666666666666666, \"#ed7953\"], [0.7777777777777778, \"#fb9f3a\"], [0.8888888888888888, \"#fdca26\"], [1.0, \"#f0f921\"]], \"type\": \"contour\"}], \"contourcarpet\": [{\"colorbar\": {\"outlinewidth\": 0, \"ticks\": \"\"}, \"type\": \"contourcarpet\"}], \"heatmap\": [{\"colorbar\": {\"outlinewidth\": 0, \"ticks\": \"\"}, \"colorscale\": [[0.0, \"#0d0887\"], [0.1111111111111111, \"#46039f\"], [0.2222222222222222, \"#7201a8\"], [0.3333333333333333, \"#9c179e\"], [0.4444444444444444, \"#bd3786\"], [0.5555555555555556, \"#d8576b\"], [0.6666666666666666, \"#ed7953\"], [0.7777777777777778, \"#fb9f3a\"], [0.8888888888888888, \"#fdca26\"], [1.0, \"#f0f921\"]], \"type\": \"heatmap\"}], \"heatmapgl\": [{\"colorbar\": {\"outlinewidth\": 0, \"ticks\": \"\"}, \"colorscale\": [[0.0, \"#0d0887\"], [0.1111111111111111, \"#46039f\"], [0.2222222222222222, \"#7201a8\"], [0.3333333333333333, \"#9c179e\"], [0.4444444444444444, \"#bd3786\"], [0.5555555555555556, \"#d8576b\"], [0.6666666666666666, \"#ed7953\"], [0.7777777777777778, \"#fb9f3a\"], [0.8888888888888888, \"#fdca26\"], [1.0, \"#f0f921\"]], \"type\": \"heatmapgl\"}], \"histogram\": [{\"marker\": {\"colorbar\": {\"outlinewidth\": 0, \"ticks\": \"\"}}, \"type\": \"histogram\"}], \"histogram2d\": [{\"colorbar\": {\"outlinewidth\": 0, \"ticks\": \"\"}, \"colorscale\": [[0.0, \"#0d0887\"], [0.1111111111111111, \"#46039f\"], [0.2222222222222222, \"#7201a8\"], [0.3333333333333333, \"#9c179e\"], [0.4444444444444444, \"#bd3786\"], [0.5555555555555556, \"#d8576b\"], [0.6666666666666666, \"#ed7953\"], [0.7777777777777778, \"#fb9f3a\"], [0.8888888888888888, \"#fdca26\"], [1.0, \"#f0f921\"]], \"type\": \"histogram2d\"}], \"histogram2dcontour\": [{\"colorbar\": {\"outlinewidth\": 0, \"ticks\": \"\"}, \"colorscale\": [[0.0, \"#0d0887\"], [0.1111111111111111, \"#46039f\"], [0.2222222222222222, \"#7201a8\"], [0.3333333333333333, \"#9c179e\"], [0.4444444444444444, \"#bd3786\"], [0.5555555555555556, \"#d8576b\"], [0.6666666666666666, \"#ed7953\"], [0.7777777777777778, \"#fb9f3a\"], [0.8888888888888888, \"#fdca26\"], [1.0, \"#f0f921\"]], \"type\": \"histogram2dcontour\"}], \"mesh3d\": [{\"colorbar\": {\"outlinewidth\": 0, \"ticks\": \"\"}, \"type\": \"mesh3d\"}], \"parcoords\": [{\"line\": {\"colorbar\": {\"outlinewidth\": 0, \"ticks\": \"\"}}, \"type\": \"parcoords\"}], \"pie\": [{\"automargin\": true, \"type\": \"pie\"}], \"scatter\": [{\"marker\": {\"colorbar\": {\"outlinewidth\": 0, \"ticks\": \"\"}}, \"type\": \"scatter\"}], \"scatter3d\": [{\"line\": {\"colorbar\": {\"outlinewidth\": 0, \"ticks\": \"\"}}, \"marker\": {\"colorbar\": {\"outlinewidth\": 0, \"ticks\": \"\"}}, \"type\": \"scatter3d\"}], \"scattercarpet\": [{\"marker\": {\"colorbar\": {\"outlinewidth\": 0, \"ticks\": \"\"}}, \"type\": \"scattercarpet\"}], \"scattergeo\": [{\"marker\": {\"colorbar\": {\"outlinewidth\": 0, \"ticks\": \"\"}}, \"type\": \"scattergeo\"}], \"scattergl\": [{\"marker\": {\"colorbar\": {\"outlinewidth\": 0, \"ticks\": \"\"}}, \"type\": \"scattergl\"}], \"scattermapbox\": [{\"marker\": {\"colorbar\": {\"outlinewidth\": 0, \"ticks\": \"\"}}, \"type\": \"scattermapbox\"}], \"scatterpolar\": [{\"marker\": {\"colorbar\": {\"outlinewidth\": 0, \"ticks\": \"\"}}, \"type\": \"scatterpolar\"}], \"scatterpolargl\": [{\"marker\": {\"colorbar\": {\"outlinewidth\": 0, \"ticks\": \"\"}}, \"type\": \"scatterpolargl\"}], \"scatterternary\": [{\"marker\": {\"colorbar\": {\"outlinewidth\": 0, \"ticks\": \"\"}}, \"type\": \"scatterternary\"}], \"surface\": [{\"colorbar\": {\"outlinewidth\": 0, \"ticks\": \"\"}, \"colorscale\": [[0.0, \"#0d0887\"], [0.1111111111111111, \"#46039f\"], [0.2222222222222222, \"#7201a8\"], [0.3333333333333333, \"#9c179e\"], [0.4444444444444444, \"#bd3786\"], [0.5555555555555556, \"#d8576b\"], [0.6666666666666666, \"#ed7953\"], [0.7777777777777778, \"#fb9f3a\"], [0.8888888888888888, \"#fdca26\"], [1.0, \"#f0f921\"]], \"type\": \"surface\"}], \"table\": [{\"cells\": {\"fill\": {\"color\": \"#EBF0F8\"}, \"line\": {\"color\": \"white\"}}, \"header\": {\"fill\": {\"color\": \"#C8D4E3\"}, \"line\": {\"color\": \"white\"}}, \"type\": \"table\"}]}, \"layout\": {\"annotationdefaults\": {\"arrowcolor\": \"#2a3f5f\", \"arrowhead\": 0, \"arrowwidth\": 1}, \"coloraxis\": {\"colorbar\": {\"outlinewidth\": 0, \"ticks\": \"\"}}, \"colorscale\": {\"diverging\": [[0, \"#8e0152\"], [0.1, \"#c51b7d\"], [0.2, \"#de77ae\"], [0.3, \"#f1b6da\"], [0.4, \"#fde0ef\"], [0.5, \"#f7f7f7\"], [0.6, \"#e6f5d0\"], [0.7, \"#b8e186\"], [0.8, \"#7fbc41\"], [0.9, \"#4d9221\"], [1, \"#276419\"]], \"sequential\": [[0.0, \"#0d0887\"], [0.1111111111111111, \"#46039f\"], [0.2222222222222222, \"#7201a8\"], [0.3333333333333333, \"#9c179e\"], [0.4444444444444444, \"#bd3786\"], [0.5555555555555556, \"#d8576b\"], [0.6666666666666666, \"#ed7953\"], [0.7777777777777778, \"#fb9f3a\"], [0.8888888888888888, \"#fdca26\"], [1.0, \"#f0f921\"]], \"sequentialminus\": [[0.0, \"#0d0887\"], [0.1111111111111111, \"#46039f\"], [0.2222222222222222, \"#7201a8\"], [0.3333333333333333, \"#9c179e\"], [0.4444444444444444, \"#bd3786\"], [0.5555555555555556, \"#d8576b\"], [0.6666666666666666, \"#ed7953\"], [0.7777777777777778, \"#fb9f3a\"], [0.8888888888888888, \"#fdca26\"], [1.0, \"#f0f921\"]]}, \"colorway\": [\"#636efa\", \"#EF553B\", \"#00cc96\", \"#ab63fa\", \"#FFA15A\", \"#19d3f3\", \"#FF6692\", \"#B6E880\", \"#FF97FF\", \"#FECB52\"], \"font\": {\"color\": \"#2a3f5f\"}, \"geo\": {\"bgcolor\": \"white\", \"lakecolor\": \"white\", \"landcolor\": \"#E5ECF6\", \"showlakes\": true, \"showland\": true, \"subunitcolor\": \"white\"}, \"hoverlabel\": {\"align\": \"left\"}, \"hovermode\": \"closest\", \"mapbox\": {\"style\": \"light\"}, \"paper_bgcolor\": \"white\", \"plot_bgcolor\": \"#E5ECF6\", \"polar\": {\"angularaxis\": {\"gridcolor\": \"white\", \"linecolor\": \"white\", \"ticks\": \"\"}, \"bgcolor\": \"#E5ECF6\", \"radialaxis\": {\"gridcolor\": \"white\", \"linecolor\": \"white\", \"ticks\": \"\"}}, \"scene\": {\"xaxis\": {\"backgroundcolor\": \"#E5ECF6\", \"gridcolor\": \"white\", \"gridwidth\": 2, \"linecolor\": \"white\", \"showbackground\": true, \"ticks\": \"\", \"zerolinecolor\": \"white\"}, \"yaxis\": {\"backgroundcolor\": \"#E5ECF6\", \"gridcolor\": \"white\", \"gridwidth\": 2, \"linecolor\": \"white\", \"showbackground\": true, \"ticks\": \"\", \"zerolinecolor\": \"white\"}, \"zaxis\": {\"backgroundcolor\": \"#E5ECF6\", \"gridcolor\": \"white\", \"gridwidth\": 2, \"linecolor\": \"white\", \"showbackground\": true, \"ticks\": \"\", \"zerolinecolor\": \"white\"}}, \"shapedefaults\": {\"line\": {\"color\": \"#2a3f5f\"}}, \"ternary\": {\"aaxis\": {\"gridcolor\": \"white\", \"linecolor\": \"white\", \"ticks\": \"\"}, \"baxis\": {\"gridcolor\": \"white\", \"linecolor\": \"white\", \"ticks\": \"\"}, \"bgcolor\": \"#E5ECF6\", \"caxis\": {\"gridcolor\": \"white\", \"linecolor\": \"white\", \"ticks\": \"\"}}, \"title\": {\"x\": 0.05}, \"xaxis\": {\"automargin\": true, \"gridcolor\": \"white\", \"linecolor\": \"white\", \"ticks\": \"\", \"title\": {\"standoff\": 15}, \"zerolinecolor\": \"white\", \"zerolinewidth\": 2}, \"yaxis\": {\"automargin\": true, \"gridcolor\": \"white\", \"linecolor\": \"white\", \"ticks\": \"\", \"title\": {\"standoff\": 15}, \"zerolinecolor\": \"white\", \"zerolinewidth\": 2}}}, \"title\": {\"text\": \"New cases over 14 days per 100K residents: Delaware County (via CC Health Dept)\"}, \"xaxis\": {\"title\": {\"text\": \"Date\"}}, \"yaxis\": {\"title\": {\"text\": \"Positive tests\"}}},\n",
       "                        {\"responsive\": true}\n",
       "                    ).then(function(){\n",
       "                            \n",
       "var gd = document.getElementById('c429f75e-cadd-4bfd-a2d1-70d5310daf3b');\n",
       "var x = new MutationObserver(function (mutations, observer) {{\n",
       "        var display = window.getComputedStyle(gd).display;\n",
       "        if (!display || display === 'none') {{\n",
       "            console.log([gd, 'removed!']);\n",
       "            Plotly.purge(gd);\n",
       "            observer.disconnect();\n",
       "        }}\n",
       "}});\n",
       "\n",
       "// Listen for the removal of the full notebook cells\n",
       "var notebookContainer = gd.closest('#notebook-container');\n",
       "if (notebookContainer) {{\n",
       "    x.observe(notebookContainer, {childList: true});\n",
       "}}\n",
       "\n",
       "// Listen for the clearing of the current output cell\n",
       "var outputEl = gd.closest('.output');\n",
       "if (outputEl) {{\n",
       "    x.observe(outputEl, {childList: true});\n",
       "}}\n",
       "\n",
       "                        })\n",
       "                };\n",
       "                });\n",
       "            </script>\n",
       "        </div>"
      ]
     },
     "metadata": {},
     "output_type": "display_data"
    }
   ],
   "source": [
    "average_new_cases(df, 14, centered=False)\n",
    "yellow_target_plotly(df, \"Delaware County (via CC Health Dept)\", output='inline', pngScale=1)\n"
   ]
  },
  {
   "cell_type": "code",
   "execution_count": null,
   "metadata": {},
   "outputs": [],
   "source": []
  }
 ],
 "metadata": {
  "kernelspec": {
   "display_name": "Python 3",
   "language": "python",
   "name": "python3"
  },
  "language_info": {
   "codemirror_mode": {
    "name": "ipython",
    "version": 3
   },
   "file_extension": ".py",
   "mimetype": "text/x-python",
   "name": "python",
   "nbconvert_exporter": "python",
   "pygments_lexer": "ipython3",
   "version": "3.7.7"
  }
 },
 "nbformat": 4,
 "nbformat_minor": 4
}
